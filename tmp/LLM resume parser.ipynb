{
 "cells": [
  {
   "cell_type": "code",
   "execution_count": 84,
   "id": "1991ca70-618f-4867-a2b0-f466c209646b",
   "metadata": {},
   "outputs": [],
   "source": [
    "#!/big/venv/cuda/bin/python\n",
    "from langchain_gigachat.chat_models import GigaChat\n",
    "from langchain_core.messages import HumanMessage, SystemMessage, AIMessage\n",
    "from langgraph.checkpoint.memory import MemorySaver\n",
    "from langgraph.graph import START, StateGraph, END\n",
    "from langgraph.graph.message import add_messages\n",
    "from langchain_core.messages import SystemMessage, trim_messages\n",
    "from langgraph.prebuilt import create_react_agent\n",
    "import uuid\n",
    "import os\n",
    "import configparser\n",
    "from time import sleep\n",
    "from glob import glob\n",
    "import re\n",
    "import psycopg2\n"
   ]
  },
  {
   "cell_type": "markdown",
   "id": "6e42a2ca-5841-4e7e-8155-5c975a1604ea",
   "metadata": {},
   "source": [
    "# Модель"
   ]
  },
  {
   "cell_type": "code",
   "execution_count": 87,
   "id": "7801b666-b39a-4796-9860-72ea7c3f379d",
   "metadata": {},
   "outputs": [],
   "source": [
    "# читаем конфиг\n",
    "config = configparser.ConfigParser()\n",
    "config.read('config.ini')\n",
    "API_KEY=config.get('gigachat', 'authkey')\n",
    "\n",
    "# модель\n",
    "model = GigaChat(\n",
    "    credentials=API_KEY,\n",
    "    verify_ssl_certs=False,\n",
    ")\n",
    "\n"
   ]
  },
  {
   "cell_type": "markdown",
   "id": "be5746b2-53ad-4e8d-8795-c539530f78d1",
   "metadata": {},
   "source": [
    "## Читаем вакансию и генерируем списки вопросов"
   ]
  },
  {
   "cell_type": "code",
   "execution_count": 3,
   "id": "73d2b17d-d54c-43f7-9e11-dd6dfeeb7c67",
   "metadata": {},
   "outputs": [],
   "source": [
    "def get_connection():\n",
    "    conn = psycopg2.connect(\n",
    "        dbname=\"hrdb\",\n",
    "        user=\"hruser\",\n",
    "        password=\"hrpassword\",\n",
    "        host=\"localhost\",\n",
    "        port=\"5432\"\n",
    "    )\n",
    "    return conn\n"
   ]
  },
  {
   "cell_type": "code",
   "execution_count": 4,
   "id": "6c2c3190-36c1-4091-8b47-4b2bec69ede6",
   "metadata": {},
   "outputs": [],
   "source": [
    "def generate_skills_question_list(vacancy):\n",
    "    promt=f'''\n",
    "    вакансия: {vacancy}\n",
    "    '''\n",
    "    bq=f'''Сформулиуй краткий список требований кандидату согласно вакансии\n",
    "    \n",
    "    Список вопросов не должен включать пояснения и дополнительную информацию. \n",
    "    '''\n",
    "    res = model.invoke([SystemMessage(promt), HumanMessage(bq)])\n",
    "    questions = res.content.replace('- ','').split('\\n')\n",
    "    return questions\n",
    "\n",
    "\n",
    "\n"
   ]
  },
  {
   "cell_type": "markdown",
   "id": "c5b8674c-22fa-4cfc-9651-e92afd4672a0",
   "metadata": {},
   "source": [
    "### читаем данные из БД"
   ]
  },
  {
   "cell_type": "code",
   "execution_count": 14,
   "id": "4202605a-523b-4c93-a895-e45810bca1e3",
   "metadata": {},
   "outputs": [],
   "source": [
    "def query_db(query):\n",
    "    con = get_connection()\n",
    "    cur = con.cursor()\n",
    "    cur.execute(query)\n",
    "    res= cur.fetchall()\n",
    "    con.close()\n",
    "    return res\n",
    "\n",
    "    \n",
    "def exec_db(*query):\n",
    "    con = get_connection()\n",
    "    cur = con.cursor()\n",
    "    cur.execute(*query)\n",
    "    con.commit()\n",
    "    con.close()\n"
   ]
  },
  {
   "cell_type": "code",
   "execution_count": 88,
   "id": "95114fe7-e692-4a18-b4c8-89c239270aee",
   "metadata": {},
   "outputs": [],
   "source": [
    "def parse_requirements():\n",
    "    res = query_db('''\n",
    "    select * from vacancies v \n",
    "    where v.requirements is null \n",
    "    ''')\n",
    "    \n",
    "    \n",
    "    for v in res:\n",
    "        vacancy = v[1]\n",
    "        skill_question_list = generate_skills_question_list(vacancy)\n",
    "        exec_db('update vacancies set requirements=%s where vacancy_file=%s',(skill_question_list,v[0]))\n"
   ]
  },
  {
   "cell_type": "code",
   "execution_count": 92,
   "id": "8a57995f-7732-4ec2-b4fd-12acbd99ebde",
   "metadata": {},
   "outputs": [],
   "source": [
    "# insert new score lines\n",
    "def insert_new_scores():\n",
    "    exec_db('''\n",
    "    with t1 as (\n",
    "    select r2.id rid, v2.id vid from resume r2 ,vacancies v2 \n",
    "    ),\n",
    "    t2 as (\n",
    "    select rid,vid from  resume_vacancies_correspondence rvc\n",
    "    full join t1 on t1.rid=rvc.resume_id and t1.vid = rvc.vacancy_id\n",
    "    where rvc.resume_id is null\n",
    "    )\n",
    "    insert into resume_vacancies_correspondence (resume_id,  vacancy_id)\n",
    "    select * from t2\n",
    "    ''')"
   ]
  },
  {
   "cell_type": "code",
   "execution_count": 90,
   "id": "45c8de2b-78a9-4571-afeb-6ef8e1f3d16d",
   "metadata": {},
   "outputs": [],
   "source": [
    "def extract_fio():\n",
    "    # извлечение фио из вакансий \n",
    "    res = query_db('''\n",
    "    select r.id, r.resume_text  from resume r\n",
    "    where r.fio is null\n",
    "    ''')\n",
    "    for row in res:\n",
    "        resume = row[1]\n",
    "        promt=f'''\n",
    "        резюме: {resume}\n",
    "        '''\n",
    "        bq=f'''напиши Фамилию Имя Отчество кандидата согласно резюме. коротко без пояснений\n",
    "        '''\n",
    "        res = model.invoke([SystemMessage(promt), HumanMessage(bq)])\n",
    "        fio = res.content.replace('.','')\n",
    "        exec_db('update resume set fio=%s where id=%s',(fio,row[0]))\n"
   ]
  },
  {
   "cell_type": "code",
   "execution_count": 89,
   "id": "a1770c00-e541-4de1-bd6c-eaced9cd64bb",
   "metadata": {},
   "outputs": [],
   "source": [
    "# первичная оценка\n",
    "def calc_first_score():\n",
    "    res = query_db('''\n",
    "    select rvc.vacancy_id, v.requirements,rvc.resume_id, r.resume_text  from resume_vacancies_correspondence rvc\n",
    "    join vacancies v on v.id = rvc.vacancy_id\n",
    "    join resume r on r.id = rvc.resume_id \n",
    "    where rvc.score is NULL\n",
    "    ''')\n",
    "    for row in res:\n",
    "        vacancy = '\\n'.join(row[1])\n",
    "        print(row)\n",
    "        resume = row[3]\n",
    "        promt=f'''\n",
    "        резюме: {resume}\n",
    "        требования: {vacancy}\n",
    "        '''\n",
    "        bq=f'''напиши список требований вакансии. Каждый элемент списка должен занимать одну строку. В конце строки надо указать соответствует или нет вакансия этому требованию. \n",
    "        '''\n",
    "        res = model.invoke([SystemMessage(promt), HumanMessage(bq)])\n",
    "        \n",
    "        # расчет score\n",
    "        full = len(res.content.split('\\n'))\n",
    "        ok = len(re.findall('Соответствует', res.content))\n",
    "        half = len(re.findall('Частично соответствует', res.content))\n",
    "        s=ok+half*0.5\n",
    "        exec_db('update resume_vacancies_correspondence set score=%s where resume_id=%s and vacancy_id=%s',(s/full,row[2],row[0]))\n",
    "\n"
   ]
  },
  {
   "cell_type": "code",
   "execution_count": 91,
   "id": "147bf040-8126-4831-a3f1-8b5268332ee5",
   "metadata": {},
   "outputs": [],
   "source": [
    "#initiate interviews\n",
    "def init_new_interviews():\n",
    "    res = query_db('''\n",
    "    select v.vacancy_text, r.resume_text,r.fio from resume_vacancies_correspondence rvc\n",
    "    join vacancies v on v.id = rvc.vacancy_id\n",
    "    join resume r on r.id = rvc.resume_id \n",
    "    left join interviews i on i.vacancy = v.vacancy_text and i.resume =r.resume_text\n",
    "    where rvc.score > (select mp.min_percent/100.0  from min_percent mp)\n",
    "    and i.uuid is null \n",
    "    ''')\n",
    "    for row in res:\n",
    "        vacancy = row[0]\n",
    "        resume = row[1]\n",
    "        _uuid = str(uuid.uuid4())\n",
    "        print(row[2],'->',_uuid)\n",
    "        exec_db('''insert into interviews (uuid,message,vacancy,resume,state)\n",
    "                values(%s,'',%s,%s,'init')''',(_uuid,vacancy,resume))\n",
    "\n"
   ]
  },
  {
   "cell_type": "code",
   "execution_count": 93,
   "id": "8871b863-28be-47bd-a5a8-df359d4256b2",
   "metadata": {},
   "outputs": [],
   "source": [
    "def pooling():\n",
    "    parse_requirements()\n",
    "    extract_fio()\n",
    "    insert_new_scores()\n",
    "    calc_first_score()\n",
    "    init_new_interviews()\n"
   ]
  },
  {
   "cell_type": "code",
   "execution_count": null,
   "id": "f7c99372-4d96-4b1f-b014-a3360d7b94b7",
   "metadata": {},
   "outputs": [
    {
     "name": "stdout",
     "output_type": "stream",
     "text": [
      "Сидоров Евгений Дмитриевич -> edbfbe98-06aa-4ba1-8f78-5ac1ee2742c2\n"
     ]
    }
   ],
   "source": [
    "from time import sleep\n",
    "\n",
    "while True:\n",
    "    pooling()\n",
    "    sleep(10)"
   ]
  }
 ],
 "metadata": {
  "kernelspec": {
   "display_name": "Python 3 (ipykernel)",
   "language": "python",
   "name": "python3"
  },
  "language_info": {
   "codemirror_mode": {
    "name": "ipython",
    "version": 3
   },
   "file_extension": ".py",
   "mimetype": "text/x-python",
   "name": "python",
   "nbconvert_exporter": "python",
   "pygments_lexer": "ipython3",
   "version": "3.11.2"
  }
 },
 "nbformat": 4,
 "nbformat_minor": 5
}
